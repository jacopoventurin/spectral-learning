{
 "cells": [
  {
   "cell_type": "markdown",
   "source": [
    "# Spectral pruning application to a simple regression problem\n",
    "\n",
    "In order to understand the use of `Spectral` layer and the pruning procedure we can consider a simple regression problem"
   ],
   "metadata": {
    "collapsed": false
   }
  },
  {
   "cell_type": "code",
   "execution_count": 1,
   "outputs": [],
   "source": [
    "import numpy as np\n",
    "import torch\n",
    "import torch.nn as nn\n",
    "import torch.nn.functional as F\n",
    "import matplotlib.pyplot as plt\n",
    "\n",
    "from Spectral import Spectral, Pruning, update_train\n"
   ],
   "metadata": {
    "collapsed": false
   }
  },
  {
   "cell_type": "markdown",
   "source": [
    "As example we consider a very simple regression problem. First we generate a dataset of 2D points distributed according to\n",
    "$$\n",
    "y=x^\\alpha + z\n",
    "$$\n",
    "where $z$ is Gaussian variable with 0 mean and $\\sigma$ as variance"
   ],
   "metadata": {
    "collapsed": false
   }
  },
  {
   "cell_type": "code",
   "execution_count": 2,
   "outputs": [
    {
     "data": {
      "text/plain": "<Figure size 576x432 with 1 Axes>",
      "image/png": "[encoded data removed]"
     },
     "metadata": {
      "needs_background": "light"
     },
     "output_type": "display_data"
    }
   ],
   "source": [
    "alpha = 2.\n",
    "sigma = 0.01\n",
    "size = 70000\n",
    "\n",
    "x = np.linspace(0, 1, size)\n",
    "z = np.random.normal(0, sigma, size)  # noise\n",
    "t = x**alpha\n",
    "y = t + z   # add noise\n",
    "\n",
    "X = []\n",
    "Y = []\n",
    "for i in range(size):\n",
    "    X.append([x[i]])\n",
    "    Y.append([y[i]])\n",
    "\n",
    "X = np.array(X)\n",
    "Y = np.array(Y)\n",
    "\n",
    "plt.figure (figsize = (8, 6))\n",
    "plt.plot(X, Y, marker='.', linestyle = '', label='data without noise', markersize=0.5)\n",
    "plt.plot(x, t, marker='.', linestyle='', color='red', label='data with noise', markersize=0.5)\n",
    "plt.title('Dataset')\n",
    "plt.legend(markerscale=10.)\n",
    "plt.xlabel('x-label')\n",
    "plt.ylabel('y-label')\n",
    "plt.show()"
   ],
   "metadata": {
    "collapsed": false
   }
  },
  {
   "cell_type": "markdown",
   "source": [
    "Let's create validation and test dataset using `PyTorch` base classes"
   ],
   "metadata": {
    "collapsed": false
   }
  },
  {
   "cell_type": "code",
   "execution_count": 3,
   "outputs": [],
   "source": [
    "from torch.utils.data import TensorDataset\n",
    "from torch.utils.data import DataLoader\n",
    "from torch.utils.data import random_split\n",
    "\n",
    "X = torch.from_numpy(X)\n",
    "Y = torch.from_numpy(Y)\n",
    "\n",
    "# Define dataset\n",
    "dataset = TensorDataset(X, Y)\n",
    "train_ds, val_ds, test_ds = random_split(dataset, [50000, 10000, 10000])\n",
    "\n",
    "# Define data loader\n",
    "batch_size = 1500\n",
    "train_dl = DataLoader(train_ds, batch_size, shuffle=True)\n",
    "val_dl = DataLoader(val_ds, batch_size)\n",
    "test_dl = DataLoader(test_ds, batch_size)"
   ],
   "metadata": {
    "collapsed": false
   }
  },
  {
   "cell_type": "markdown",
   "source": [
    "## Define Spectral model\n",
    "As pretraining we consider a big model in order to apply the pruning procedure to it. The optimal configuration for the pretraining of the model is to allow training only on eigenvalue, while eigenvectors are fixed."
   ],
   "metadata": {
    "collapsed": false
   }
  },
  {
   "cell_type": "code",
   "execution_count": 4,
   "outputs": [],
   "source": [
    "# Spectral Regression model with only train of eigenvalues\n",
    "config = {'base_grad' : False,\n",
    "         'start_grad' : True,\n",
    "         'end_grad' : True,\n",
    "         'bias': False,\n",
    "          'dtype': float}\n",
    "\n",
    "class SpectralRegression(nn.Module):\n",
    "    def __init__(self):\n",
    "        super().__init__()\n",
    "        self.spectralin = Spectral(1, 50, **config)\n",
    "        self.spectral1 = Spectral(50, 50, **config)\n",
    "        self.spectralout = Spectral(50, 1, **config)\n",
    "\n",
    "    def forward(self,x):\n",
    "        out = self.spectralin(x)  # Input: first linear transformation\n",
    "        out = self.spectral1(out) # Linear transformation\n",
    "        out = F.elu(out)   # Non linear filter\n",
    "        out = self.spectralout(out)  # Last linear transformation: output\n",
    "        return out\n",
    "\n",
    "    def training_step(self, batch):\n",
    "        x, y = batch\n",
    "        out = self(x)                  # Generate predictions\n",
    "        loss = F.mse_loss(out, y) # Calculate loss\n",
    "        return loss\n",
    "\n",
    "    def validation_step(self, batch):\n",
    "        x, y= batch\n",
    "        out = self(x)                    # Generate predictions\n",
    "        loss = F.mse_loss(out, y)   # Calculate loss\n",
    "        return {'val_loss': loss}\n",
    "\n",
    "    def validation_epoch_end(self, outputs):\n",
    "        batch_losses = [x['val_loss'] for x in outputs]\n",
    "        epoch_loss = torch.stack(batch_losses).mean()   # Combine losses\n",
    "        return {'val_loss': epoch_loss.item()}\n",
    "\n",
    "    def epoch_end(self, epoch, result):\n",
    "        print(\"Epoch [{}], val_loss: {:.6f}\".format(epoch, result['val_loss']))\n",
    "\n",
    "\n",
    "spectral_model = SpectralRegression()"
   ],
   "metadata": {
    "collapsed": false
   }
  },
  {
   "cell_type": "code",
   "execution_count": 5,
   "outputs": [],
   "source": [
    "def evaluate(model, val_loader):\n",
    "    outputs = [model.validation_step(batch) for batch in val_loader]\n",
    "    return model.validation_epoch_end(outputs)\n",
    "\n",
    "def fit(epochs, lr, model, train_loader, val_loader, opt_func=torch.optim.SGD):\n",
    "    optimizer = opt_func(model.parameters(), lr)\n",
    "    history = [] # for recording epoch-wise results\n",
    "    #es = EarlyStopping(patience=10)\n",
    "\n",
    "    for epoch in range(epochs):\n",
    "\n",
    "        # Training Phase\n",
    "        for batch in train_loader:\n",
    "            loss = model.training_step(batch)\n",
    "            loss.backward()\n",
    "            optimizer.step()\n",
    "            optimizer.zero_grad()\n",
    "\n",
    "        # Validation phase\n",
    "        result = evaluate(model, val_loader)\n",
    "        model.epoch_end(epoch, result)\n",
    "        history.append(result)\n",
    "\n",
    "        # Early stopping\n",
    "        #if es.step(loss):\n",
    "        #        break\n",
    "\n",
    "    return history"
   ],
   "metadata": {
    "collapsed": false
   }
  },
  {
   "cell_type": "markdown",
   "source": [
    "Let's train the model for 20 epochs."
   ],
   "metadata": {
    "collapsed": false
   }
  },
  {
   "cell_type": "code",
   "execution_count": 6,
   "outputs": [
    {
     "name": "stdout",
     "output_type": "stream",
     "text": [
      "Epoch [0], val_loss: 0.015782\n",
      "Epoch [1], val_loss: 0.012809\n",
      "Epoch [2], val_loss: 0.012597\n",
      "Epoch [3], val_loss: 0.012571\n",
      "Epoch [4], val_loss: 0.012548\n",
      "Epoch [5], val_loss: 0.012518\n",
      "Epoch [6], val_loss: 0.012531\n",
      "Epoch [7], val_loss: 0.012498\n",
      "Epoch [8], val_loss: 0.012440\n",
      "Epoch [9], val_loss: 0.012356\n",
      "Epoch [10], val_loss: 0.012031\n",
      "Epoch [11], val_loss: 0.007111\n",
      "Epoch [12], val_loss: 0.000275\n",
      "Epoch [13], val_loss: 0.000144\n",
      "Epoch [14], val_loss: 0.000143\n",
      "Epoch [15], val_loss: 0.000157\n",
      "Epoch [16], val_loss: 0.000142\n",
      "Epoch [17], val_loss: 0.000152\n",
      "Epoch [18], val_loss: 0.000157\n",
      "Epoch [19], val_loss: 0.000144\n"
     ]
    }
   ],
   "source": [
    "args = {'lr': 0.03,\n",
    "       'model': spectral_model,\n",
    "       'train_loader': train_dl,\n",
    "       'val_loader': val_dl,\n",
    "       'opt_func': torch.optim.Adam}\n",
    "\n",
    "history_spectral1 = fit(20, **args)\n",
    "\n"
   ],
   "metadata": {
    "collapsed": false
   }
  },
  {
   "cell_type": "markdown",
   "source": [
    "Now we can apply the Pruning procedure and allow training on eigenvalue too"
   ],
   "metadata": {
    "collapsed": false
   }
  },
  {
   "cell_type": "code",
   "execution_count": 7,
   "outputs": [
    {
     "name": "stdout",
     "output_type": "stream",
     "text": [
      "New pruned model:\n",
      "SpectralRegression(\n",
      "  (spectralin): Spectral(in_dim=1, out_dim=3, base_grad=False, start_grad=True, end_grad=True, bias=False)\n",
      "  (spectral1): Spectral(in_dim=3, out_dim=17, base_grad=False, start_grad=True, end_grad=True, bias=False)\n",
      "  (spectralout): Spectral(in_dim=17, out_dim=1, base_grad=False, start_grad=True, end_grad=True, bias=False)\n",
      ")\n",
      "Modified model: \n",
      "SpectralRegression(\n",
      "  (spectralin): Spectral(in_dim=1, out_dim=3, base_grad=True, start_grad=True, end_grad=True, bias=False)\n",
      "  (spectral1): Spectral(in_dim=3, out_dim=17, base_grad=True, start_grad=True, end_grad=True, bias=False)\n",
      "  (spectralout): Spectral(in_dim=17, out_dim=1, base_grad=True, start_grad=True, end_grad=True, bias=False)\n",
      ")\n"
     ]
    },
    {
     "name": "stderr",
     "output_type": "stream",
     "text": [
      "/usr/lib/python3/dist-packages/numpy/core/_asarray.py:83: VisibleDeprecationWarning: Creating an ndarray from ragged nested sequences (which is a list-or-tuple of lists-or-tuples-or ndarrays with different lengths or shapes) is deprecated. If you meant to do this, you must specify 'dtype=object' when creating the ndarray\n",
      "  return array(a, dtype, copy=False, order=order)\n"
     ]
    }
   ],
   "source": [
    "# Prune the model\n",
    "Pruning(spectral_model, 80, input_fixed=True)\n",
    "\n",
    "# Allow training just on eigenvalues\n",
    "update_train(spectral_model, base=True, diag_start=True, diag_end=True)"
   ],
   "metadata": {
    "collapsed": false
   }
  },
  {
   "cell_type": "markdown",
   "source": [
    "At this point we can train the pruned model."
   ],
   "metadata": {
    "collapsed": false
   }
  },
  {
   "cell_type": "code",
   "execution_count": 8,
   "outputs": [
    {
     "name": "stdout",
     "output_type": "stream",
     "text": [
      "Epoch [0], val_loss: 0.028093\n",
      "Epoch [1], val_loss: 0.004437\n",
      "Epoch [2], val_loss: 0.000927\n",
      "Epoch [3], val_loss: 0.000173\n",
      "Epoch [4], val_loss: 0.000160\n",
      "Epoch [5], val_loss: 0.000160\n",
      "Epoch [6], val_loss: 0.000162\n",
      "Epoch [7], val_loss: 0.000159\n",
      "Epoch [8], val_loss: 0.000163\n",
      "Epoch [9], val_loss: 0.000159\n",
      "Epoch [10], val_loss: 0.000162\n",
      "Epoch [11], val_loss: 0.000161\n",
      "Epoch [12], val_loss: 0.000161\n",
      "Epoch [13], val_loss: 0.000159\n",
      "Epoch [14], val_loss: 0.000161\n",
      "Epoch [15], val_loss: 0.000159\n",
      "Epoch [16], val_loss: 0.000159\n",
      "Epoch [17], val_loss: 0.000158\n",
      "Epoch [18], val_loss: 0.000160\n",
      "Epoch [19], val_loss: 0.000167\n"
     ]
    }
   ],
   "source": [
    "args = {'lr': 0.03,\n",
    "       'model': spectral_model,\n",
    "       'train_loader': train_dl,\n",
    "       'val_loader': val_dl,\n",
    "       'opt_func': torch.optim.Adam}\n",
    "\n",
    "history_spectral2 = fit(20, **args)"
   ],
   "metadata": {
    "collapsed": false
   }
  },
  {
   "cell_type": "markdown",
   "source": [],
   "metadata": {
    "collapsed": false
   }
  },
  {
   "cell_type": "code",
   "execution_count": 9,
   "outputs": [
    {
     "data": {
      "text/plain": "<Figure size 432x288 with 1 Axes>",
      "image/png": "[encoded data removed]"
     },
     "metadata": {
      "needs_background": "light"
     },
     "output_type": "display_data"
    }
   ],
   "source": [
    "losses_spectral1 = [result['val_loss'] for result in history_spectral1]\n",
    "losses_spectral2 = [result['val_loss'] for result in history_spectral2]\n",
    "\n",
    "plt.plot(losses_spectral1, '-x', color='blue', label='Original Model')\n",
    "plt.plot(losses_spectral2, '-x', color='green', label='Pruned Model' )\n",
    "plt.xlabel('epoch')\n",
    "plt.ylabel('loss')\n",
    "plt.title('Validation loss')\n",
    "plt.legend()\n",
    "plt.show()"
   ],
   "metadata": {
    "collapsed": false
   }
  }
 ],
 "metadata": {
  "kernelspec": {
   "display_name": "Python 3",
   "language": "python",
   "name": "python3"
  },
  "language_info": {
   "codemirror_mode": {
    "name": "ipython",
    "version": 2
   },
   "file_extension": ".py",
   "mimetype": "text/x-python",
   "name": "python",
   "nbconvert_exporter": "python",
   "pygments_lexer": "ipython2",
   "version": "2.7.6"
  }
 },
 "nbformat": 4,
 "nbformat_minor": 0
}
